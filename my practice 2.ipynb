{
 "cells": [
  {
   "cell_type": "markdown",
   "id": "f6519aad",
   "metadata": {},
   "source": [
    "# User input"
   ]
  },
  {
   "cell_type": "raw",
   "id": "1e89bc82",
   "metadata": {},
   "source": [
    "1. Take a sentence input from user using input function. Count occurence of a particular character/word in the sentence and print the message that the character appear this many times in the sentence.\n",
    "Like if user inputs> \"My name is Sana. I am an undergraduate student. I am learning Artificial Intellegence in PIAIC\"\n",
    "Your output should be:\n",
    "    I appears 5 times in your sentence\n",
    "Hint: nahi batounga use string methods.\n",
    "Note: Sana is a boy. His full name is SanaUllah😄\n"
   ]
  },
  {
   "cell_type": "code",
   "execution_count": 3,
   "id": "937e66d4",
   "metadata": {},
   "outputs": [
    {
     "name": "stdout",
     "output_type": "stream",
     "text": [
      "enter your name,work,qualification : My name is Abdul Kabeer . these days I Am free. I have completed my inter degree and currently I am doing my bachelors degree in computer science\n"
     ]
    },
    {
     "data": {
      "text/plain": [
       "3"
      ]
     },
     "execution_count": 3,
     "metadata": {},
     "output_type": "execute_result"
    }
   ],
   "source": [
    "sentence=input(\"enter your name,work,qualification : \")"
   ]
  },
  {
   "cell_type": "code",
   "execution_count": 13,
   "id": "2285feb7",
   "metadata": {},
   "outputs": [
    {
     "name": "stdout",
     "output_type": "stream",
     "text": [
      "my name is abdul kabeer . these days i am free. i have completed my inter degree and currently i am doing my bachelors degree in computer science\n"
     ]
    }
   ],
   "source": [
    "print(sentence.lower())"
   ]
  },
  {
   "cell_type": "code",
   "execution_count": 15,
   "id": "6eb58fc6",
   "metadata": {},
   "outputs": [
    {
     "data": {
      "text/plain": [
       "2"
      ]
     },
     "execution_count": 15,
     "metadata": {},
     "output_type": "execute_result"
    }
   ],
   "source": [
    "sentence.count(\"my\")"
   ]
  },
  {
   "cell_type": "raw",
   "id": "bf6c3672",
   "metadata": {},
   "source": [
    "2. Take a number input from user and print the square of that number. \n",
    "\n",
    "if a user inputs 10 Your output should be like:\n",
    "    The square of 10 is 100\n",
    "if a user inputs 5 Your output should be like:\n",
    "    The square of 5 is 25\n",
    "if a user inputs 2 Your output should be like:\n",
    "    The square of 2 is 4\n"
   ]
  },
  {
   "cell_type": "code",
   "execution_count": 17,
   "id": "3b532779",
   "metadata": {},
   "outputs": [
    {
     "name": "stdout",
     "output_type": "stream",
     "text": [
      "enter a number : 3\n",
      "9\n"
     ]
    }
   ],
   "source": [
    "number=int(input(\"enter a number : \"))\n",
    "number*=number\n",
    "print(number)"
   ]
  },
  {
   "cell_type": "raw",
   "id": "0da0f529",
   "metadata": {},
   "source": [
    "3. Take two inputs from user using two input functions add these two numbers and print the result.\n",
    "For example if a user inputs 10 in first input, 20 in second input then your output mustbe like:\n",
    "    The sum of 10 and 20 is 30\n",
    "    \n",
    "For example if a user inputs 12 in first input, 30 in second input then your output mustbe like:\n",
    "    The sum of 12 and 30 is 42\n",
    "\n",
    "For example if a user inputs 100 in first input, 200 in second input then your out put mustbe like:\n",
    "    The sum of 100 and 200 is 300"
   ]
  },
  {
   "cell_type": "code",
   "execution_count": 18,
   "id": "46017da5",
   "metadata": {},
   "outputs": [
    {
     "name": "stdout",
     "output_type": "stream",
     "text": [
      "enter a number: 10\n",
      "enter a number :20\n",
      "30\n"
     ]
    }
   ],
   "source": [
    "first=int(input(\"enter a number: \"))\n",
    "second=int(input(\"enter a number :\"))\n",
    "third = first + second\n",
    "print(third)"
   ]
  },
  {
   "cell_type": "raw",
   "id": "f957eb50",
   "metadata": {},
   "source": [
    "4. Format a string to display a card like string:\n",
    "    \n",
    "            Presidential Initiative for AI & Computing\n",
    "                          ID CARD\n",
    "            Student Name   : Asad Ali\n",
    "            Father Name    : Amjad Ali\n",
    "            Date of Birth  : 01-01-2000\n",
    "            Course Enrolled: Artificial Intelligence\n",
    "            Batch          : 2022\n",
    "            Day            : Saturday \n",
    "            Centre         : Sir Syed University of Engg and Technology\n",
    "                \n",
    "Note: all the field values must be taken as user inputs and stored in variable"
   ]
  },
  {
   "cell_type": "code",
   "execution_count": 22,
   "id": "0f2d4d2d",
   "metadata": {},
   "outputs": [
    {
     "name": "stdout",
     "output_type": "stream",
     "text": [
      "enter your name : Abdul Kabeer\n",
      "enter your father name : Abdul Hameed\n",
      "enter your date of birth : 11-09-2002\n",
      "enter the course you enrolled : Ai\n",
      "enter your batch : 2022\n",
      "what's your study day : staurdsy\n",
      "enter your centre of study :sir syed\n",
      "\n",
      "              Presidential Initiative for AI & Computing\n",
      "                             ID CARD\n",
      "              Student Name    : Abdul Kabeer\n",
      "              Father name     : Abdul Hameed\n",
      "              Date of Birth   : 11-09-2002\n",
      "              Course Enrolled : Ai\n",
      "              Batch           : 2022\n",
      "              Day             : staurdsy\n",
      "              Centre          : sir syed\n",
      "              \n",
      "              \n"
     ]
    }
   ],
   "source": [
    "name = input(\"enter your name : \")\n",
    "father_name = input (\"enter your father name : \")\n",
    "birth = input(\"enter your date of birth : \" )\n",
    "course = input(\"enter the course you enrolled : \")\n",
    "batch = input(\"enter your batch : \")\n",
    "day = input(\"what's your study day : \")\n",
    "centre = input(\"enter your centre of study :\")\n",
    "\n",
    "print (f\"\"\"\n",
    "              Presidential Initiative for AI & Computing\n",
    "                             ID CARD\n",
    "              Student Name    : {name}\n",
    "              Father name     : {father_name}\n",
    "              Date of Birth   : {birth}\n",
    "              Course Enrolled : {course}\n",
    "              Batch           : {batch}\n",
    "              Day             : {day}\n",
    "              Centre          : {centre}\n",
    "              \n",
    "              \"\"\")"
   ]
  },
  {
   "cell_type": "code",
   "execution_count": null,
   "id": "fc27b91b",
   "metadata": {},
   "outputs": [],
   "source": []
  }
 ],
 "metadata": {
  "kernelspec": {
   "display_name": "Python 3 (ipykernel)",
   "language": "python",
   "name": "python3"
  },
  "language_info": {
   "codemirror_mode": {
    "name": "ipython",
    "version": 3
   },
   "file_extension": ".py",
   "mimetype": "text/x-python",
   "name": "python",
   "nbconvert_exporter": "python",
   "pygments_lexer": "ipython3",
   "version": "3.9.12"
  }
 },
 "nbformat": 4,
 "nbformat_minor": 5
}
