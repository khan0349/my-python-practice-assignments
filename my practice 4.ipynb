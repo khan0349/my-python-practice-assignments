{
 "cells": [
  {
   "cell_type": "raw",
   "id": "722289ad",
   "metadata": {},
   "source": [
    "1) A company decided to give bonus of 5% to employee if his/her year of service is more than 5 years. Ask user for their salary and year of service and print the net bonus amount."
   ]
  },
  {
   "cell_type": "code",
   "execution_count": 2,
   "id": "6109d0b7",
   "metadata": {},
   "outputs": [
    {
     "name": "stdout",
     "output_type": "stream",
     "text": [
      "enter your salary : 10000\n",
      "How many years you worked : 6\n",
      "wow , you have earned bonus of  500.0\n"
     ]
    }
   ],
   "source": [
    "salary=int(input(\"enter your salary : \" ))\n",
    "year_of_service=int(input(\"How many years you worked : \"))\n",
    "if year_of_service>5:\n",
    "    bonus= salary * 5/100\n",
    "    print(\"wow , you have earned bonus of \",bonus)\n",
    "else : \n",
    "    print(\"sorry you are not eligible for this scheme \")\n",
    "    "
   ]
  },
  {
   "cell_type": "raw",
   "id": "de6ce53a",
   "metadata": {},
   "source": [
    "2) Write a program to check whether a person is eligible for voting or not. (accept age from user)"
   ]
  },
  {
   "cell_type": "code",
   "execution_count": 5,
   "id": "f9941ce7",
   "metadata": {},
   "outputs": [
    {
     "name": "stdout",
     "output_type": "stream",
     "text": [
      "enter your age : 44\n",
      "Yes you are eligible \n"
     ]
    }
   ],
   "source": [
    "person=int(input(\"enter your age : \"))\n",
    "if person > 18:\n",
    "    print(\"Yes you are eligible \")\n",
    "else:\n",
    "    print(\"sorry, not eligible\")\n",
    "    "
   ]
  },
  {
   "cell_type": "raw",
   "id": "3c54c948",
   "metadata": {},
   "source": [
    "3) Write a program to check whether a number entered by user is even or odd."
   ]
  },
  {
   "cell_type": "code",
   "execution_count": 7,
   "id": "5f6b6413",
   "metadata": {},
   "outputs": [
    {
     "name": "stdout",
     "output_type": "stream",
     "text": [
      "enter a number :76\n",
      "even\n"
     ]
    }
   ],
   "source": [
    "y=int(input(\"enter a number :\"))\n",
    "if y %2==0:\n",
    "    print(\"even\")\n",
    "else:\n",
    "    print(\"odd\")"
   ]
  },
  {
   "cell_type": "raw",
   "id": "87e60c64",
   "metadata": {},
   "source": [
    " Write a program to check whether a number is divisible by 7 or not. Show Answer"
   ]
  },
  {
   "cell_type": "code",
   "execution_count": 8,
   "id": "283e5b2e",
   "metadata": {},
   "outputs": [
    {
     "name": "stdout",
     "output_type": "stream",
     "text": [
      "enter any number4\n",
      "4 is not divisible by 7\n"
     ]
    }
   ],
   "source": [
    "e=int(input(\"enter any number\"))\n",
    "if e %7==0:\n",
    "    print(e ,\"is divisible by 7\")\n",
    "else:\n",
    "    print(e,\"is not divisible by 7\")"
   ]
  },
  {
   "cell_type": "raw",
   "id": "f6fc4f86",
   "metadata": {},
   "source": [
    "5) Write a program to display \n",
    "\"Hello\" if a number entered by user is a multiple of five , otherwise print \"Bye\"."
   ]
  },
  {
   "cell_type": "code",
   "execution_count": 3,
   "id": "e2ca4710",
   "metadata": {},
   "outputs": [
    {
     "name": "stdout",
     "output_type": "stream",
     "text": [
      "enter any number : 5\n",
      "Hello\n"
     ]
    }
   ],
   "source": [
    "n=int(input(\"enter any number : \"))\n",
    "if n%5==0:\n",
    "    print(\"Hello\")\n",
    "else:\n",
    "    print(\"Bye\")\n",
    "    "
   ]
  },
  {
   "cell_type": "raw",
   "id": "20aee8a0",
   "metadata": {},
   "source": [
    "6) Write a program to calculate the electricity bill (accept number of unit from user) according to the following criteria :\n",
    "     Unit                                                     Price  \n",
    "uptp 100 units                                             no charge\n",
    "Next 200 units                                              Rs 5 per unit\n",
    "After 200 units                                             Rs 10 per unit\n",
    "(For example if input unit is 350 than total bill amount is Rs.2000\n",
    "(For example if input unit is 97 than total bill amount is Rs.0\n",
    "(For example if input unit is 150 than total bill amount is Rs.250"
   ]
  },
  {
   "cell_type": "code",
   "execution_count": 2,
   "id": "f0a5592f",
   "metadata": {},
   "outputs": [
    {
     "name": "stdout",
     "output_type": "stream",
     "text": [
      "enter your name : Abdul Kabeer\n",
      " enter your huose number : b-8\n",
      "enter your account number : 110223566\n",
      "enter the units consumed : 356\n",
      "\n",
      "      Name : Abdul Kabeer\n",
      "      House number : b-8\n",
      "      Account number : 110223566\n",
      "      \n",
      "      The charges are 2060\n"
     ]
    }
   ],
   "source": [
    "name=str(input(\"enter your name : \"))\n",
    "house_no=input(\" enter your huose number : \")\n",
    "account_no=input(\"enter your account number : \")\n",
    "units=int(input(\"enter the units consumed : \"))\n",
    "bill_payment=0\n",
    "per_unit_price= None\n",
    "if units<=100:\n",
    "    per_unit_price=0\n",
    "    units=bill_payment*per_unit_price\n",
    "elif units>100 and units<=200:\n",
    "    per_unit_price=5\n",
    "    bill_payment=units-100\n",
    "    units=bill_payment*per_unit_price\n",
    "elif units>200 and units<=500:\n",
    "    a=units-200\n",
    "    z=100\n",
    "    units=a*10+z*5\n",
    "else:\n",
    "    per_unit_price=50\n",
    "    b=units-500\n",
    "    units=b*per_unit_price+(500-200)*10+(200-100)*5+(100-0)*0\n",
    "    \n",
    "print(f\"\"\"\n",
    "      Name : {name}\n",
    "      House number : {house_no}\n",
    "      Account number : {account_no}\n",
    "      \n",
    "      The charges are {units}\"\"\")\n",
    "    \n",
    "    \n",
    "\n",
    "\n",
    "    "
   ]
  },
  {
   "cell_type": "raw",
   "id": "8ca82639",
   "metadata": {},
   "source": [
    "7) Write a program to display the last digit of a number."
   ]
  },
  {
   "cell_type": "code",
   "execution_count": 4,
   "id": "8e57a46a",
   "metadata": {},
   "outputs": [
    {
     "name": "stdout",
     "output_type": "stream",
     "text": [
      "enter your name : 23456\n",
      " 6 \n"
     ]
    }
   ],
   "source": [
    "num=int(input(\"enter any number : \"))\n",
    "print(f\" {num%10} \")\n",
    "\n"
   ]
  },
  {
   "cell_type": "markdown",
   "id": "97b3e75c",
   "metadata": {},
   "source": [
    "Q8. Write a program to check whether the last digit of a number( entered by user ) is \n",
    "divisible by 3 or not."
   ]
  },
  {
   "cell_type": "code",
   "execution_count": 8,
   "id": "2a8d0fa8",
   "metadata": {},
   "outputs": [
    {
     "name": "stdout",
     "output_type": "stream",
     "text": [
      "enter any number : 34567\n",
      "False\n"
     ]
    }
   ],
   "source": [
    "number=int(input(\"enter any number : \"))\n",
    "print(f\"{number%10%3==0}\")\n",
    "\n",
    "#ANOTHER WAY TO DO THIS PROGRAM\n",
    "\"\"\"number=int(input(\"enter any number : \"))\n",
    "gale=number%10\n",
    "if gale%3==0:\n",
    "    print(f\"The last digit {gale} is divisible by 3\")\n",
    "else:\n",
    "    print(f\"The last digit {gale} is not divisible by 3\")\"\"\""
   ]
  },
  {
   "cell_type": "raw",
   "id": "105edc08",
   "metadata": {},
   "source": [
    "9) Take values of length and breadth of a rectangle from user and check if it is square or not."
   ]
  },
  {
   "cell_type": "code",
   "execution_count": 9,
   "id": "a7d88110",
   "metadata": {},
   "outputs": [
    {
     "name": "stdout",
     "output_type": "stream",
     "text": [
      "enter the length : 3\n",
      "enter the breadth : 3\n",
      "The rectangle is square \n"
     ]
    }
   ],
   "source": [
    "length=int(input(\"enter the length : \"))\n",
    "breadth=int(input(\"enter the breadth : \"))\n",
    "if length == breadth :\n",
    "    print(\"The rectangle is square \")\n",
    "else:\n",
    "    print(\"The rectangle is not square \")\n",
    "    "
   ]
  },
  {
   "cell_type": "markdown",
   "id": "5f2bf69b",
   "metadata": {},
   "source": [
    "Take two int values from user and print greatest among them."
   ]
  },
  {
   "cell_type": "code",
   "execution_count": 11,
   "id": "083af7f1",
   "metadata": {},
   "outputs": [
    {
     "name": "stdout",
     "output_type": "stream",
     "text": [
      "enter some number : 2\n",
      "enter some number : 5\n",
      "5\n"
     ]
    }
   ],
   "source": [
    "a=int(input(\"enter some number : \"))\n",
    "b=int(input(\"enter some number : \"))\n",
    "if a>b:\n",
    "    print(a)\n",
    "elif b>a:\n",
    "    print(b)\n",
    "else:\n",
    "    print(\"equal\")"
   ]
  },
  {
   "cell_type": "raw",
   "id": "4fd61701",
   "metadata": {},
   "source": [
    "11) A shop will give discount of 10% if the cost of purchased quantity is more than 1000.\n",
    "Ask user for quantity\n",
    "Suppose, one unit will cost 100.\n",
    "Judge and print total cost for user."
   ]
  },
  {
   "cell_type": "code",
   "execution_count": 16,
   "id": "fc773d7a",
   "metadata": {},
   "outputs": [
    {
     "name": "stdout",
     "output_type": "stream",
     "text": [
      "enter the quantity for purchase : 2000\n",
      "\n",
      "         purchase : 2000\n",
      "         Discounted purchase : 1800.0\n",
      "         \n"
     ]
    }
   ],
   "source": [
    "purchase=int(input(\"enter the quantity for purchase : \"))\n",
    "grandy=0\n",
    "discount=0\n",
    "if purchase>1000:\n",
    "    discount=(purchase)*10/100\n",
    "    grandy=purchase-discount\n",
    "else:\n",
    "    grandy= purchase\n",
    "print(f\"\"\"\n",
    "         purchase : {purchase}\n",
    "         Discounted purchase : {grandy}\n",
    "         \"\"\")   \n",
    "    "
   ]
  },
  {
   "cell_type": "raw",
   "id": "683c3114",
   "metadata": {},
   "source": [
    "12) A school has following rules for grading system:\n",
    "\n",
    "a. Below 25 - F\n",
    "\n",
    "b. 25 to 45 - E\n",
    "\n",
    "c. 45 to 50 - D\n",
    "\n",
    "d. 50 to 60 - C\n",
    "\n",
    "e. 60 to 80 - B\n",
    "\n",
    "f. Above 80 - A\n",
    "\n",
    "Ask user to enter marks and print the corresponding grade."
   ]
  },
  {
   "cell_type": "code",
   "execution_count": 56,
   "id": "25a5dee3",
   "metadata": {},
   "outputs": [
    {
     "name": "stdout",
     "output_type": "stream",
     "text": [
      "enter your marks : 33\n",
      "your grade is E\n"
     ]
    }
   ],
   "source": [
    "marks=int(input(\"enter your marks : \"))\n",
    "# grade ko define kiye bagher bhi ho raha tha but behtar hai ke define ho\n",
    "grade=None\n",
    "if marks>80 :\n",
    "    grade=\"A\"\n",
    "elif marks>60:\n",
    "    grade=\"B\"\n",
    "elif marks>50:\n",
    "    grade=\"C\"\n",
    "elif marks>45:\n",
    "    grade=\"D\"\n",
    "elif marks>=25:\n",
    "    grade=\"E\"\n",
    "else:\n",
    "    grade=\"F\"\n",
    "print(f\"your grade is {grade}\")\n",
    "     "
   ]
  },
  {
   "cell_type": "raw",
   "id": "6621510d",
   "metadata": {},
   "source": [
    "13) Take input of age of 3 people by user and determine oldest and youngest among them."
   ]
  },
  {
   "cell_type": "code",
   "execution_count": 14,
   "id": "1eece456",
   "metadata": {},
   "outputs": [
    {
     "name": "stdout",
     "output_type": "stream",
     "text": [
      "enter the age of person 1  11\n",
      "enter the age of person 2  11\n",
      "enter the age of person 3  11\n",
      "The youngest person is the one having age of 11\n",
      "The oldest person is the one having age of 11\n"
     ]
    }
   ],
   "source": [
    "age=[int(input(f\"enter the age of person {i+1}  \")) for i in range(3)]\n",
    "high=low=age[0]\n",
    "for i in range(3):\n",
    "    if age[i] > high:\n",
    "        high=age[i]\n",
    "    if age[i] < low:\n",
    "        low = age[i]\n",
    "print(f\"\"\"The youngest person is the one having age of {low}\n",
    "The oldest person is the one having age of {high}\"\"\")"
   ]
  },
  {
   "cell_type": "raw",
   "id": "8cdf8339",
   "metadata": {},
   "source": [
    "14)A student will not be allowed to sit in exam if his/her attendence is less than 75%.\n",
    "\n",
    "Take following input from user\n",
    "\n",
    "Number of classes held\n",
    "\n",
    "Number of classes attended.\n",
    "\n",
    "And print\n",
    "\n",
    "percentage of class attended\n",
    "\n",
    "Is student is allowed to sit in exam or not.\n"
   ]
  },
  {
   "cell_type": "code",
   "execution_count": 21,
   "id": "0ab121fa",
   "metadata": {},
   "outputs": [
    {
     "name": "stdout",
     "output_type": "stream",
     "text": [
      "enter the classes held : 222\n",
      "enter the classes you attended : 134\n",
      "sorry you are not allowed to sit in the exam \n",
      "your percentage is 60.36036036036036 % of your attendance\n"
     ]
    }
   ],
   "source": [
    "noch=int(input(\"enter the classes held : \"))\n",
    "noca=int(input(\"enter the classes you attended : \"))\n",
    "percentage=(noca*100)/noch\n",
    "if percentage>=75:\n",
    "    print(\"you are allowed to sit in the exam \")\n",
    "else:\n",
    "    print(\"sorry you are not allowed to sit in the exam \")\n",
    "print(f\"your percentage is {percentage} % of your attendance\")"
   ]
  },
  {
   "cell_type": "raw",
   "id": "a2ffd4d6",
   "metadata": {},
   "source": [
    "15) Modify the above question to allow student to sit if he/she has medical cause. Ask user if he/she has medical cause or not ( 'Y' or 'N' ) and print accordingly."
   ]
  },
  {
   "cell_type": "code",
   "execution_count": 24,
   "id": "54e0451f",
   "metadata": {},
   "outputs": [
    {
     "name": "stdout",
     "output_type": "stream",
     "text": [
      "Enter your medical cause\n",
      "y\n",
      "you are allowed to sit in the exam\n",
      "Because you have y in medical cause\n"
     ]
    }
   ],
   "source": [
    "medical_cause=input(\"Enter your medical cause\\n\").lower()\n",
    "if medical_cause ==\"y\":\n",
    "    print(\"you are allowed to sit in the exam\")\n",
    "else:\n",
    "    print(\"sorry you are not allowed to sit in the exam\")\n",
    "print(f\"Because you have {medical_cause} in medical cause\")"
   ]
  },
  {
   "cell_type": "raw",
   "id": "d27d3373",
   "metadata": {},
   "source": [
    "16) Write a program to check if a year is leap year or not.\n",
    "\n",
    "If a year is divisible by 4 then it is leap year but if the year is century year like 2000, 1900, 2100 then it must be divisible by 400."
   ]
  },
  {
   "cell_type": "code",
   "execution_count": 44,
   "id": "11e64c59",
   "metadata": {},
   "outputs": [
    {
     "name": "stdout",
     "output_type": "stream",
     "text": [
      "enter year :500\n",
      "no\n"
     ]
    }
   ],
   "source": [
    "year=int(input(\"enter year :\"))\n",
    "if year<400:\n",
    "    year%4==0\n",
    "    print(\"leap year\")\n",
    "elif year>=400 and year%400==0:\n",
    "    print(\"             leap year\")\n",
    "else:           \n",
    "\n",
    "    print(\"no\")"
   ]
  },
  {
   "cell_type": "raw",
   "id": "1c7b720b",
   "metadata": {},
   "source": [
    "17) Ask user to enter age, gender ( M or F ), marital status ( Y or N ) and then using following rules print their place of service.\n",
    "\n",
    "if employee is female, then she will work only in urban areas.\n",
    "\n",
    "if employee is a male and age is in between 20 to 40 then he may work in anywhere\n",
    "\n",
    "if employee is male and age is in between 40 t0 60 then he will work in urban areas only.\n",
    "\n",
    "And any other input of age should print \"ERROR\""
   ]
  },
  {
   "cell_type": "code",
   "execution_count": null,
   "id": "6455f48a",
   "metadata": {},
   "outputs": [],
   "source": [
    "age=int(input(\"enter your age =\"))\n",
    "gender=input(\"enter your gender = \").lower()\n",
    "married=input(\"are you married ? =\").lower()\n",
    "if gender == \"f\":\n",
    "    print(\"you are allowed to work in urban areas only\")\n",
    "elif gender ==\"m\" and age>20 and age<40:\n",
    "    print(\"you are allowed to work anywhere\")\n",
    "elif gender ==\"m\" and age>40 and age<60:\n",
    "    print(\"you are allowed to work in urban areas only\")\n",
    "else:\n",
    "    print(\"ERROR\")"
   ]
  },
  {
   "cell_type": "code",
   "execution_count": null,
   "id": "fb5de096",
   "metadata": {},
   "outputs": [],
   "source": []
  }
 ],
 "metadata": {
  "kernelspec": {
   "display_name": "Python 3 (ipykernel)",
   "language": "python",
   "name": "python3"
  },
  "language_info": {
   "codemirror_mode": {
    "name": "ipython",
    "version": 3
   },
   "file_extension": ".py",
   "mimetype": "text/x-python",
   "name": "python",
   "nbconvert_exporter": "python",
   "pygments_lexer": "ipython3",
   "version": "3.9.12"
  }
 },
 "nbformat": 4,
 "nbformat_minor": 5
}
